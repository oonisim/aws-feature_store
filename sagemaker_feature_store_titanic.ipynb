{
 "cells": [
  {
   "cell_type": "markdown",
   "metadata": {},
   "source": [
    "## SageMaker Feature Store with Titanic\n"
   ]
  },
  {
   "cell_type": "code",
   "execution_count": 1,
   "metadata": {
    "execution": {
     "iopub.execute_input": "2025-08-13T21:40:51.372772Z",
     "iopub.status.busy": "2025-08-13T21:40:51.372264Z",
     "iopub.status.idle": "2025-08-13T21:40:51.378956Z",
     "shell.execute_reply": "2025-08-13T21:40:51.378370Z",
     "shell.execute_reply.started": "2025-08-13T21:40:51.372749Z"
    }
   },
   "outputs": [
    {
     "data": {
      "text/html": [
       "<style>\n",
       "table {float:left}\n",
       "</style>\n"
      ],
      "text/plain": [
       "<IPython.core.display.HTML object>"
      ]
     },
     "metadata": {},
     "output_type": "display_data"
    }
   ],
   "source": [
    "%%html\n",
    "<style>\n",
    "table {float:left}\n",
    "</style>"
   ]
  },
  {
   "cell_type": "code",
   "execution_count": 32,
   "metadata": {
    "execution": {
     "iopub.execute_input": "2025-08-13T21:48:05.903848Z",
     "iopub.status.busy": "2025-08-13T21:48:05.903226Z",
     "iopub.status.idle": "2025-08-13T21:48:07.626765Z",
     "shell.execute_reply": "2025-08-13T21:48:07.625747Z",
     "shell.execute_reply.started": "2025-08-13T21:48:05.903818Z"
    }
   },
   "outputs": [],
   "source": [
    "!pip install awswrangler --quiet"
   ]
  },
  {
   "cell_type": "markdown",
   "metadata": {},
   "source": [
    "\n",
    "### Prerequisites\n",
    "This notebook uses both `boto3` and Python SDK libraries, and the `Python 3 (Data Science)` kernel. \n",
    "\n",
    "#### Library dependencies:\n",
    "* `sagemaker>=2.100.0`\n",
    "* `numpy`\n",
    "* `pandas`\n",
    "\n",
    "#### IAM Role besides SageMaker Execcution Role\n",
    "\n",
    "* `AmazonS3FullAccess`\n",
    "* `AmazonSageMakerFeatureStoreAccess`\n",
    "\n",
    "### Default SageMaker Bucket\n",
    "\n",
    "Set to SageMaker session explicitly."
   ]
  },
  {
   "cell_type": "markdown",
   "metadata": {},
   "source": [
    "# Set up"
   ]
  },
  {
   "cell_type": "code",
   "execution_count": 2,
   "metadata": {
    "execution": {
     "iopub.execute_input": "2025-08-13T21:40:51.384598Z",
     "iopub.status.busy": "2025-08-13T21:40:51.384303Z",
     "iopub.status.idle": "2025-08-13T21:40:55.499084Z",
     "shell.execute_reply": "2025-08-13T21:40:55.498165Z",
     "shell.execute_reply.started": "2025-08-13T21:40:51.384487Z"
    }
   },
   "outputs": [],
   "source": [
    "!pip install 'sagemaker>=2.100.0' --quiet\n",
    "!pip install 'boto3>=1.24.20' --quiet"
   ]
  },
  {
   "cell_type": "code",
   "execution_count": 3,
   "metadata": {
    "execution": {
     "iopub.execute_input": "2025-08-13T21:40:55.500391Z",
     "iopub.status.busy": "2025-08-13T21:40:55.500143Z",
     "iopub.status.idle": "2025-08-13T21:40:55.504038Z",
     "shell.execute_reply": "2025-08-13T21:40:55.503416Z",
     "shell.execute_reply.started": "2025-08-13T21:40:55.500368Z"
    }
   },
   "outputs": [],
   "source": [
    "# SageMaker Python SDK version 2.100.0 is required\n",
    "# boto3 version 1.24.20 is required\n",
    "import time\n",
    "from time import gmtime, strftime, sleep\n",
    "import sys\n",
    "import io"
   ]
  },
  {
   "cell_type": "code",
   "execution_count": 44,
   "metadata": {
    "execution": {
     "iopub.execute_input": "2025-08-13T22:07:08.443415Z",
     "iopub.status.busy": "2025-08-13T22:07:08.442723Z",
     "iopub.status.idle": "2025-08-13T22:07:08.447332Z",
     "shell.execute_reply": "2025-08-13T22:07:08.446424Z",
     "shell.execute_reply.started": "2025-08-13T22:07:08.443385Z"
    }
   },
   "outputs": [],
   "source": [
    "import pandas as pd\n",
    "import numpy as np\n",
    "\n",
    "import sagemaker\n",
    "import boto3\n",
    "import awswrangler as wr  \n",
    "from sagemaker.session import Session\n",
    "from sagemaker import get_execution_role\n",
    "from sagemaker.feature_store.feature_group import (\n",
    "    FeatureGroup\n",
    ")"
   ]
  },
  {
   "cell_type": "code",
   "execution_count": 5,
   "metadata": {
    "execution": {
     "iopub.execute_input": "2025-08-13T21:40:57.827582Z",
     "iopub.status.busy": "2025-08-13T21:40:57.826973Z",
     "iopub.status.idle": "2025-08-13T21:40:57.830960Z",
     "shell.execute_reply": "2025-08-13T21:40:57.830191Z",
     "shell.execute_reply.started": "2025-08-13T21:40:57.827558Z"
    }
   },
   "outputs": [],
   "source": [
    "DEFAULT_BUCKET = \"montaproxy-sagemaker-featurestore-test\""
   ]
  },
  {
   "cell_type": "code",
   "execution_count": 6,
   "metadata": {
    "execution": {
     "iopub.execute_input": "2025-08-13T21:40:57.832411Z",
     "iopub.status.busy": "2025-08-13T21:40:57.831949Z",
     "iopub.status.idle": "2025-08-13T21:40:58.230948Z",
     "shell.execute_reply": "2025-08-13T21:40:58.229799Z",
     "shell.execute_reply.started": "2025-08-13T21:40:57.832382Z"
    }
   },
   "outputs": [
    {
     "name": "stdout",
     "output_type": "stream",
     "text": [
      "s3_bucket_name=montaproxy-sagemaker-featurestore-test\n",
      "region=us-east-1\n",
      "role=arn:aws:iam::316725000538:role/service-role/AmazonSageMaker-ExecutionRole-20250813T120418\n"
     ]
    }
   ],
   "source": [
    "role = get_execution_role()\n",
    "\n",
    "sagemaker_session = sagemaker.Session(default_bucket=DEFAULT_BUCKET)\n",
    "region = sagemaker_session.boto_region_name\n",
    "s3_bucket_name = sagemaker_session.default_bucket()\n",
    "prefix = \"oonisim-kaggle-titanic-feature-group\"\n",
    "\n",
    "print(f\"s3_bucket_name={s3_bucket_name}\")\n",
    "print(f\"region={region}\")\n",
    "print(f\"role={role}\")"
   ]
  },
  {
   "cell_type": "markdown",
   "metadata": {},
   "source": [
    "# Raw Data"
   ]
  },
  {
   "cell_type": "code",
   "execution_count": 7,
   "metadata": {
    "execution": {
     "iopub.execute_input": "2025-08-13T21:40:58.234807Z",
     "iopub.status.busy": "2025-08-13T21:40:58.234390Z",
     "iopub.status.idle": "2025-08-13T21:40:58.692361Z",
     "shell.execute_reply": "2025-08-13T21:40:58.691567Z",
     "shell.execute_reply.started": "2025-08-13T21:40:58.234762Z"
    }
   },
   "outputs": [],
   "source": [
    "titanic_df = pd.read_csv(\"s3://montaproxy-datazone-test/kaggle/titanic/train.csv\")"
   ]
  },
  {
   "cell_type": "code",
   "execution_count": 8,
   "metadata": {
    "execution": {
     "iopub.execute_input": "2025-08-13T21:40:58.694261Z",
     "iopub.status.busy": "2025-08-13T21:40:58.693598Z",
     "iopub.status.idle": "2025-08-13T21:40:58.724310Z",
     "shell.execute_reply": "2025-08-13T21:40:58.723519Z",
     "shell.execute_reply.started": "2025-08-13T21:40:58.694226Z"
    }
   },
   "outputs": [
    {
     "data": {
      "text/html": [
       "<div>\n",
       "<style scoped>\n",
       "    .dataframe tbody tr th:only-of-type {\n",
       "        vertical-align: middle;\n",
       "    }\n",
       "\n",
       "    .dataframe tbody tr th {\n",
       "        vertical-align: top;\n",
       "    }\n",
       "\n",
       "    .dataframe thead th {\n",
       "        text-align: right;\n",
       "    }\n",
       "</style>\n",
       "<table border=\"1\" class=\"dataframe\">\n",
       "  <thead>\n",
       "    <tr style=\"text-align: right;\">\n",
       "      <th></th>\n",
       "      <th>PassengerId</th>\n",
       "      <th>Survived</th>\n",
       "      <th>Pclass</th>\n",
       "      <th>Name</th>\n",
       "      <th>Sex</th>\n",
       "      <th>Age</th>\n",
       "      <th>SibSp</th>\n",
       "      <th>Parch</th>\n",
       "      <th>Ticket</th>\n",
       "      <th>Fare</th>\n",
       "      <th>Cabin</th>\n",
       "      <th>Embarked</th>\n",
       "    </tr>\n",
       "  </thead>\n",
       "  <tbody>\n",
       "    <tr>\n",
       "      <th>0</th>\n",
       "      <td>1</td>\n",
       "      <td>0</td>\n",
       "      <td>3</td>\n",
       "      <td>Braund, Mr. Owen Harris</td>\n",
       "      <td>male</td>\n",
       "      <td>22.0</td>\n",
       "      <td>1</td>\n",
       "      <td>0</td>\n",
       "      <td>A/5 21171</td>\n",
       "      <td>7.2500</td>\n",
       "      <td>NaN</td>\n",
       "      <td>S</td>\n",
       "    </tr>\n",
       "    <tr>\n",
       "      <th>1</th>\n",
       "      <td>2</td>\n",
       "      <td>1</td>\n",
       "      <td>1</td>\n",
       "      <td>Cumings, Mrs. John Bradley (Florence Briggs Th...</td>\n",
       "      <td>female</td>\n",
       "      <td>38.0</td>\n",
       "      <td>1</td>\n",
       "      <td>0</td>\n",
       "      <td>PC 17599</td>\n",
       "      <td>71.2833</td>\n",
       "      <td>C85</td>\n",
       "      <td>C</td>\n",
       "    </tr>\n",
       "    <tr>\n",
       "      <th>2</th>\n",
       "      <td>3</td>\n",
       "      <td>1</td>\n",
       "      <td>3</td>\n",
       "      <td>Heikkinen, Miss. Laina</td>\n",
       "      <td>female</td>\n",
       "      <td>26.0</td>\n",
       "      <td>0</td>\n",
       "      <td>0</td>\n",
       "      <td>STON/O2. 3101282</td>\n",
       "      <td>7.9250</td>\n",
       "      <td>NaN</td>\n",
       "      <td>S</td>\n",
       "    </tr>\n",
       "    <tr>\n",
       "      <th>3</th>\n",
       "      <td>4</td>\n",
       "      <td>1</td>\n",
       "      <td>1</td>\n",
       "      <td>Futrelle, Mrs. Jacques Heath (Lily May Peel)</td>\n",
       "      <td>female</td>\n",
       "      <td>35.0</td>\n",
       "      <td>1</td>\n",
       "      <td>0</td>\n",
       "      <td>113803</td>\n",
       "      <td>53.1000</td>\n",
       "      <td>C123</td>\n",
       "      <td>S</td>\n",
       "    </tr>\n",
       "    <tr>\n",
       "      <th>4</th>\n",
       "      <td>5</td>\n",
       "      <td>0</td>\n",
       "      <td>3</td>\n",
       "      <td>Allen, Mr. William Henry</td>\n",
       "      <td>male</td>\n",
       "      <td>35.0</td>\n",
       "      <td>0</td>\n",
       "      <td>0</td>\n",
       "      <td>373450</td>\n",
       "      <td>8.0500</td>\n",
       "      <td>NaN</td>\n",
       "      <td>S</td>\n",
       "    </tr>\n",
       "  </tbody>\n",
       "</table>\n",
       "</div>"
      ],
      "text/plain": [
       "   PassengerId  Survived  Pclass  \\\n",
       "0            1         0       3   \n",
       "1            2         1       1   \n",
       "2            3         1       3   \n",
       "3            4         1       1   \n",
       "4            5         0       3   \n",
       "\n",
       "                                                Name     Sex   Age  SibSp  \\\n",
       "0                            Braund, Mr. Owen Harris    male  22.0      1   \n",
       "1  Cumings, Mrs. John Bradley (Florence Briggs Th...  female  38.0      1   \n",
       "2                             Heikkinen, Miss. Laina  female  26.0      0   \n",
       "3       Futrelle, Mrs. Jacques Heath (Lily May Peel)  female  35.0      1   \n",
       "4                           Allen, Mr. William Henry    male  35.0      0   \n",
       "\n",
       "   Parch            Ticket     Fare Cabin Embarked  \n",
       "0      0         A/5 21171   7.2500   NaN        S  \n",
       "1      0          PC 17599  71.2833   C85        C  \n",
       "2      0  STON/O2. 3101282   7.9250   NaN        S  \n",
       "3      0            113803  53.1000  C123        S  \n",
       "4      0            373450   8.0500   NaN        S  "
      ]
     },
     "execution_count": 8,
     "metadata": {},
     "output_type": "execute_result"
    }
   ],
   "source": [
    "titanic_df.head()"
   ]
  },
  {
   "cell_type": "markdown",
   "metadata": {},
   "source": [
    "Append dummy `event_timestamp` feature to dataframe. This parameter is required, and time stamps each data point."
   ]
  },
  {
   "cell_type": "code",
   "execution_count": 9,
   "metadata": {
    "execution": {
     "iopub.execute_input": "2025-08-13T21:40:58.731172Z",
     "iopub.status.busy": "2025-08-13T21:40:58.730564Z",
     "iopub.status.idle": "2025-08-13T21:40:58.734713Z",
     "shell.execute_reply": "2025-08-13T21:40:58.733832Z",
     "shell.execute_reply.started": "2025-08-13T21:40:58.731140Z"
    }
   },
   "outputs": [],
   "source": [
    "event_timestamp = int(round(time.time()))"
   ]
  },
  {
   "cell_type": "code",
   "execution_count": 10,
   "metadata": {
    "execution": {
     "iopub.execute_input": "2025-08-13T21:40:58.736243Z",
     "iopub.status.busy": "2025-08-13T21:40:58.735824Z",
     "iopub.status.idle": "2025-08-13T21:40:58.751222Z",
     "shell.execute_reply": "2025-08-13T21:40:58.750402Z",
     "shell.execute_reply.started": "2025-08-13T21:40:58.736213Z"
    }
   },
   "outputs": [
    {
     "data": {
      "text/html": [
       "<div>\n",
       "<style scoped>\n",
       "    .dataframe tbody tr th:only-of-type {\n",
       "        vertical-align: middle;\n",
       "    }\n",
       "\n",
       "    .dataframe tbody tr th {\n",
       "        vertical-align: top;\n",
       "    }\n",
       "\n",
       "    .dataframe thead th {\n",
       "        text-align: right;\n",
       "    }\n",
       "</style>\n",
       "<table border=\"1\" class=\"dataframe\">\n",
       "  <thead>\n",
       "    <tr style=\"text-align: right;\">\n",
       "      <th></th>\n",
       "      <th>PassengerId</th>\n",
       "      <th>Survived</th>\n",
       "      <th>Pclass</th>\n",
       "      <th>Name</th>\n",
       "      <th>Sex</th>\n",
       "      <th>Age</th>\n",
       "      <th>SibSp</th>\n",
       "      <th>Parch</th>\n",
       "      <th>Ticket</th>\n",
       "      <th>Fare</th>\n",
       "      <th>Cabin</th>\n",
       "      <th>Embarked</th>\n",
       "      <th>EventTime</th>\n",
       "    </tr>\n",
       "  </thead>\n",
       "  <tbody>\n",
       "    <tr>\n",
       "      <th>0</th>\n",
       "      <td>1</td>\n",
       "      <td>0</td>\n",
       "      <td>3</td>\n",
       "      <td>Braund, Mr. Owen Harris</td>\n",
       "      <td>male</td>\n",
       "      <td>22.0</td>\n",
       "      <td>1</td>\n",
       "      <td>0</td>\n",
       "      <td>A/5 21171</td>\n",
       "      <td>7.2500</td>\n",
       "      <td>NaN</td>\n",
       "      <td>S</td>\n",
       "      <td>1.755121e+09</td>\n",
       "    </tr>\n",
       "    <tr>\n",
       "      <th>1</th>\n",
       "      <td>2</td>\n",
       "      <td>1</td>\n",
       "      <td>1</td>\n",
       "      <td>Cumings, Mrs. John Bradley (Florence Briggs Th...</td>\n",
       "      <td>female</td>\n",
       "      <td>38.0</td>\n",
       "      <td>1</td>\n",
       "      <td>0</td>\n",
       "      <td>PC 17599</td>\n",
       "      <td>71.2833</td>\n",
       "      <td>C85</td>\n",
       "      <td>C</td>\n",
       "      <td>1.755121e+09</td>\n",
       "    </tr>\n",
       "    <tr>\n",
       "      <th>2</th>\n",
       "      <td>3</td>\n",
       "      <td>1</td>\n",
       "      <td>3</td>\n",
       "      <td>Heikkinen, Miss. Laina</td>\n",
       "      <td>female</td>\n",
       "      <td>26.0</td>\n",
       "      <td>0</td>\n",
       "      <td>0</td>\n",
       "      <td>STON/O2. 3101282</td>\n",
       "      <td>7.9250</td>\n",
       "      <td>NaN</td>\n",
       "      <td>S</td>\n",
       "      <td>1.755121e+09</td>\n",
       "    </tr>\n",
       "    <tr>\n",
       "      <th>3</th>\n",
       "      <td>4</td>\n",
       "      <td>1</td>\n",
       "      <td>1</td>\n",
       "      <td>Futrelle, Mrs. Jacques Heath (Lily May Peel)</td>\n",
       "      <td>female</td>\n",
       "      <td>35.0</td>\n",
       "      <td>1</td>\n",
       "      <td>0</td>\n",
       "      <td>113803</td>\n",
       "      <td>53.1000</td>\n",
       "      <td>C123</td>\n",
       "      <td>S</td>\n",
       "      <td>1.755121e+09</td>\n",
       "    </tr>\n",
       "    <tr>\n",
       "      <th>4</th>\n",
       "      <td>5</td>\n",
       "      <td>0</td>\n",
       "      <td>3</td>\n",
       "      <td>Allen, Mr. William Henry</td>\n",
       "      <td>male</td>\n",
       "      <td>35.0</td>\n",
       "      <td>0</td>\n",
       "      <td>0</td>\n",
       "      <td>373450</td>\n",
       "      <td>8.0500</td>\n",
       "      <td>NaN</td>\n",
       "      <td>S</td>\n",
       "      <td>1.755121e+09</td>\n",
       "    </tr>\n",
       "  </tbody>\n",
       "</table>\n",
       "</div>"
      ],
      "text/plain": [
       "   PassengerId  Survived  Pclass  \\\n",
       "0            1         0       3   \n",
       "1            2         1       1   \n",
       "2            3         1       3   \n",
       "3            4         1       1   \n",
       "4            5         0       3   \n",
       "\n",
       "                                                Name     Sex   Age  SibSp  \\\n",
       "0                            Braund, Mr. Owen Harris    male  22.0      1   \n",
       "1  Cumings, Mrs. John Bradley (Florence Briggs Th...  female  38.0      1   \n",
       "2                             Heikkinen, Miss. Laina  female  26.0      0   \n",
       "3       Futrelle, Mrs. Jacques Heath (Lily May Peel)  female  35.0      1   \n",
       "4                           Allen, Mr. William Henry    male  35.0      0   \n",
       "\n",
       "   Parch            Ticket     Fare Cabin Embarked     EventTime  \n",
       "0      0         A/5 21171   7.2500   NaN        S  1.755121e+09  \n",
       "1      0          PC 17599  71.2833   C85        C  1.755121e+09  \n",
       "2      0  STON/O2. 3101282   7.9250   NaN        S  1.755121e+09  \n",
       "3      0            113803  53.1000  C123        S  1.755121e+09  \n",
       "4      0            373450   8.0500   NaN        S  1.755121e+09  "
      ]
     },
     "execution_count": 10,
     "metadata": {},
     "output_type": "execute_result"
    }
   ],
   "source": [
    "titanic_df[\"EventTime\"] = pd.Series([event_timestamp] * len(titanic_df), dtype=\"float64\")\n",
    "titanic_df.head()"
   ]
  },
  {
   "cell_type": "markdown",
   "metadata": {},
   "source": [
    "# Feature Engineering\n",
    "\n",
    "TBD"
   ]
  },
  {
   "cell_type": "markdown",
   "metadata": {},
   "source": [
    "# Feature Registration (Feature Group)\n",
    "\n",
    "Similar to Feature Service in FEAST to expose a logical group of features for a model version to consume. (To be verified).\n"
   ]
  },
  {
   "cell_type": "code",
   "execution_count": 11,
   "metadata": {
    "execution": {
     "iopub.execute_input": "2025-08-13T21:40:58.755826Z",
     "iopub.status.busy": "2025-08-13T21:40:58.755248Z",
     "iopub.status.idle": "2025-08-13T21:40:58.759292Z",
     "shell.execute_reply": "2025-08-13T21:40:58.758545Z",
     "shell.execute_reply.started": "2025-08-13T21:40:58.755796Z"
    }
   },
   "outputs": [],
   "source": [
    "titanic_feature_group_name = \"oonisim-kaggle-titanic-feature-group\"\n",
    "record_identifier_feature_name = \"PassengerId\""
   ]
  },
  {
   "cell_type": "code",
   "execution_count": 12,
   "metadata": {
    "execution": {
     "iopub.execute_input": "2025-08-13T21:40:58.761077Z",
     "iopub.status.busy": "2025-08-13T21:40:58.760266Z",
     "iopub.status.idle": "2025-08-13T21:40:58.765116Z",
     "shell.execute_reply": "2025-08-13T21:40:58.764381Z",
     "shell.execute_reply.started": "2025-08-13T21:40:58.761046Z"
    }
   },
   "outputs": [],
   "source": [
    "titanic_feature_group = FeatureGroup(\n",
    "    name=titanic_feature_group_name,\n",
    "    sagemaker_session=sagemaker_session\n",
    ")"
   ]
  },
  {
   "cell_type": "markdown",
   "metadata": {},
   "source": [
    "### Load feature definitions into the feature group\n",
    "\n",
    "Inspect the dataframe schema and generate Feature Definitions of the Feature Group."
   ]
  },
  {
   "cell_type": "code",
   "execution_count": 13,
   "metadata": {
    "execution": {
     "iopub.execute_input": "2025-08-13T21:40:58.769340Z",
     "iopub.status.busy": "2025-08-13T21:40:58.768937Z",
     "iopub.status.idle": "2025-08-13T21:40:58.775454Z",
     "shell.execute_reply": "2025-08-13T21:40:58.774620Z",
     "shell.execute_reply.started": "2025-08-13T21:40:58.769311Z"
    }
   },
   "outputs": [
    {
     "data": {
      "text/plain": [
       "[FeatureDefinition(feature_name='PassengerId', feature_type=<FeatureTypeEnum.INTEGRAL: 'Integral'>, collection_type=None),\n",
       " FeatureDefinition(feature_name='Survived', feature_type=<FeatureTypeEnum.INTEGRAL: 'Integral'>, collection_type=None),\n",
       " FeatureDefinition(feature_name='Pclass', feature_type=<FeatureTypeEnum.INTEGRAL: 'Integral'>, collection_type=None),\n",
       " FeatureDefinition(feature_name='Name', feature_type=<FeatureTypeEnum.STRING: 'String'>, collection_type=None),\n",
       " FeatureDefinition(feature_name='Sex', feature_type=<FeatureTypeEnum.STRING: 'String'>, collection_type=None),\n",
       " FeatureDefinition(feature_name='Age', feature_type=<FeatureTypeEnum.FRACTIONAL: 'Fractional'>, collection_type=None),\n",
       " FeatureDefinition(feature_name='SibSp', feature_type=<FeatureTypeEnum.INTEGRAL: 'Integral'>, collection_type=None),\n",
       " FeatureDefinition(feature_name='Parch', feature_type=<FeatureTypeEnum.INTEGRAL: 'Integral'>, collection_type=None),\n",
       " FeatureDefinition(feature_name='Ticket', feature_type=<FeatureTypeEnum.STRING: 'String'>, collection_type=None),\n",
       " FeatureDefinition(feature_name='Fare', feature_type=<FeatureTypeEnum.FRACTIONAL: 'Fractional'>, collection_type=None),\n",
       " FeatureDefinition(feature_name='Cabin', feature_type=<FeatureTypeEnum.STRING: 'String'>, collection_type=None),\n",
       " FeatureDefinition(feature_name='Embarked', feature_type=<FeatureTypeEnum.STRING: 'String'>, collection_type=None),\n",
       " FeatureDefinition(feature_name='EventTime', feature_type=<FeatureTypeEnum.FRACTIONAL: 'Fractional'>, collection_type=None)]"
      ]
     },
     "execution_count": 13,
     "metadata": {},
     "output_type": "execute_result"
    }
   ],
   "source": [
    "titanic_df_feature_definitions = titanic_feature_group.load_feature_definitions(data_frame=titanic_df)\n",
    "titanic_df_feature_definitions"
   ]
  },
  {
   "cell_type": "markdown",
   "metadata": {},
   "source": [
    "### Create Feature Group"
   ]
  },
  {
   "cell_type": "code",
   "execution_count": 16,
   "metadata": {
    "execution": {
     "iopub.execute_input": "2025-08-13T21:41:39.734382Z",
     "iopub.status.busy": "2025-08-13T21:41:39.733571Z",
     "iopub.status.idle": "2025-08-13T21:41:40.397711Z",
     "shell.execute_reply": "2025-08-13T21:41:40.397048Z",
     "shell.execute_reply.started": "2025-08-13T21:41:39.734355Z"
    }
   },
   "outputs": [
    {
     "data": {
      "text/plain": [
       "{'FeatureGroupArn': 'arn:aws:sagemaker:us-east-1:316725000538:feature-group/oonisim-kaggle-titanic-feature-group',\n",
       " 'ResponseMetadata': {'RequestId': '6d630e38-a0d6-4fda-bd87-01406f06c7f4',\n",
       "  'HTTPStatusCode': 200,\n",
       "  'HTTPHeaders': {'x-amzn-requestid': '6d630e38-a0d6-4fda-bd87-01406f06c7f4',\n",
       "   'content-type': 'application/x-amz-json-1.1',\n",
       "   'content-length': '113',\n",
       "   'date': 'Wed, 13 Aug 2025 21:41:40 GMT'},\n",
       "  'RetryAttempts': 0}}"
      ]
     },
     "execution_count": 16,
     "metadata": {},
     "output_type": "execute_result"
    }
   ],
   "source": [
    "# titanic_feature_group.delete()\n",
    "titanic_feature_group.create(\n",
    "    s3_uri=f\"s3://{s3_bucket_name}/{titanic_feature_group_name}\",\n",
    "    record_identifier_name=record_identifier_feature_name,\n",
    "    event_time_feature_name=\"EventTime\",\n",
    "    role_arn=role,\n",
    "    enable_online_store=True,\n",
    ")"
   ]
  },
  {
   "cell_type": "markdown",
   "metadata": {},
   "source": [
    "### Verify Feature Group\n",
    "\n",
    "Use `DescribeFeatureGroup` and `ListFeatureGroups` APIs to display the created FeatureGroup."
   ]
  },
  {
   "cell_type": "code",
   "execution_count": 17,
   "metadata": {
    "execution": {
     "iopub.execute_input": "2025-08-13T21:42:03.905481Z",
     "iopub.status.busy": "2025-08-13T21:42:03.904892Z",
     "iopub.status.idle": "2025-08-13T21:42:14.381383Z",
     "shell.execute_reply": "2025-08-13T21:42:14.380483Z",
     "shell.execute_reply.started": "2025-08-13T21:42:03.905454Z"
    }
   },
   "outputs": [
    {
     "name": "stdout",
     "output_type": "stream",
     "text": [
      "Waiting for Feature Group to be Created\n",
      "Waiting for Feature Group to be Created\n",
      "FeatureGroup oonisim-kaggle-titanic-feature-group successfully created.\n"
     ]
    }
   ],
   "source": [
    "def check_feature_group_status(feature_group):\n",
    "    status = feature_group.describe().get(\"FeatureGroupStatus\")\n",
    "    while status == \"Creating\":\n",
    "        print(\"Waiting for Feature Group to be Created\")\n",
    "        time.sleep(5)\n",
    "        status = feature_group.describe().get(\"FeatureGroupStatus\")\n",
    "    print(f\"FeatureGroup {feature_group.name} successfully created.\")\n",
    "\n",
    "\n",
    "check_feature_group_status(titanic_feature_group)"
   ]
  },
  {
   "cell_type": "code",
   "execution_count": 18,
   "metadata": {
    "execution": {
     "iopub.execute_input": "2025-08-13T21:42:16.317606Z",
     "iopub.status.busy": "2025-08-13T21:42:16.316967Z",
     "iopub.status.idle": "2025-08-13T21:42:16.476677Z",
     "shell.execute_reply": "2025-08-13T21:42:16.476095Z",
     "shell.execute_reply.started": "2025-08-13T21:42:16.317577Z"
    }
   },
   "outputs": [
    {
     "data": {
      "text/plain": [
       "{'FeatureGroupArn': 'arn:aws:sagemaker:us-east-1:316725000538:feature-group/oonisim-kaggle-titanic-feature-group',\n",
       " 'FeatureGroupName': 'oonisim-kaggle-titanic-feature-group',\n",
       " 'RecordIdentifierFeatureName': 'PassengerId',\n",
       " 'EventTimeFeatureName': 'EventTime',\n",
       " 'FeatureDefinitions': [{'FeatureName': 'PassengerId',\n",
       "   'FeatureType': 'Integral'},\n",
       "  {'FeatureName': 'Survived', 'FeatureType': 'Integral'},\n",
       "  {'FeatureName': 'Pclass', 'FeatureType': 'Integral'},\n",
       "  {'FeatureName': 'Name', 'FeatureType': 'String'},\n",
       "  {'FeatureName': 'Sex', 'FeatureType': 'String'},\n",
       "  {'FeatureName': 'Age', 'FeatureType': 'Fractional'},\n",
       "  {'FeatureName': 'SibSp', 'FeatureType': 'Integral'},\n",
       "  {'FeatureName': 'Parch', 'FeatureType': 'Integral'},\n",
       "  {'FeatureName': 'Ticket', 'FeatureType': 'String'},\n",
       "  {'FeatureName': 'Fare', 'FeatureType': 'Fractional'},\n",
       "  {'FeatureName': 'Cabin', 'FeatureType': 'String'},\n",
       "  {'FeatureName': 'Embarked', 'FeatureType': 'String'},\n",
       "  {'FeatureName': 'EventTime', 'FeatureType': 'Fractional'}],\n",
       " 'CreationTime': datetime.datetime(2025, 8, 13, 21, 41, 39, 905000, tzinfo=tzlocal()),\n",
       " 'OnlineStoreConfig': {'EnableOnlineStore': True},\n",
       " 'OfflineStoreConfig': {'S3StorageConfig': {'S3Uri': 's3://montaproxy-sagemaker-featurestore-test/oonisim-kaggle-titanic-feature-group',\n",
       "   'ResolvedOutputS3Uri': 's3://montaproxy-sagemaker-featurestore-test/oonisim-kaggle-titanic-feature-group/316725000538/sagemaker/us-east-1/offline-store/oonisim-kaggle-titanic-feature-group-1755121299/data'},\n",
       "  'DisableGlueTableCreation': False,\n",
       "  'DataCatalogConfig': {'TableName': 'oonisim_kaggle_titanic_feature_group_1755121299',\n",
       "   'Catalog': 'AwsDataCatalog',\n",
       "   'Database': 'sagemaker_featurestore'}},\n",
       " 'ThroughputConfig': {'ThroughputMode': 'OnDemand'},\n",
       " 'RoleArn': 'arn:aws:iam::316725000538:role/service-role/AmazonSageMaker-ExecutionRole-20250813T120418',\n",
       " 'FeatureGroupStatus': 'Created',\n",
       " 'OnlineStoreTotalSizeBytes': 0,\n",
       " 'ResponseMetadata': {'RequestId': '1d3badf9-e88d-4d27-9c2b-55b09bdfa7de',\n",
       "  'HTTPStatusCode': 200,\n",
       "  'HTTPHeaders': {'x-amzn-requestid': '1d3badf9-e88d-4d27-9c2b-55b09bdfa7de',\n",
       "   'content-type': 'application/x-amz-json-1.1',\n",
       "   'content-length': '2223',\n",
       "   'date': 'Wed, 13 Aug 2025 21:42:16 GMT'},\n",
       "  'RetryAttempts': 0}}"
      ]
     },
     "execution_count": 18,
     "metadata": {},
     "output_type": "execute_result"
    }
   ],
   "source": [
    "titanic_feature_group.describe()"
   ]
  },
  {
   "cell_type": "raw",
   "metadata": {
    "execution": {
     "iopub.execute_input": "2025-08-13T21:42:17.915915Z",
     "iopub.status.busy": "2025-08-13T21:42:17.915284Z",
     "iopub.status.idle": "2025-08-13T21:42:18.018850Z",
     "shell.execute_reply": "2025-08-13T21:42:18.018192Z",
     "shell.execute_reply.started": "2025-08-13T21:42:17.915884Z"
    }
   },
   "source": [
    "sagemaker_session.boto_session.client(\n",
    "    \"sagemaker\", region_name=region\n",
    ").list_feature_groups()  # We use the boto client to list FeatureGroups"
   ]
  },
  {
   "cell_type": "markdown",
   "metadata": {},
   "source": [
    "### Add metadata to a feature\n",
    "\n",
    "We can add searchable metadata fields to FeatureGroup features by using the `UpdateFeatureMetadata` API. The currently supported metadata fields are `description` and `parameters`."
   ]
  },
  {
   "cell_type": "raw",
   "metadata": {
    "execution": {
     "iopub.execute_input": "2025-08-13T21:42:25.151106Z",
     "iopub.status.busy": "2025-08-13T21:42:25.150483Z",
     "iopub.status.idle": "2025-08-13T21:42:25.316843Z",
     "shell.execute_reply": "2025-08-13T21:42:25.315915Z",
     "shell.execute_reply.started": "2025-08-13T21:42:25.151079Z"
    }
   },
   "source": [
    "from sagemaker.feature_store.inputs import FeatureParameter\n",
    "\n",
    "titanic_feature_group.update_feature_metadata(\n",
    "    feature_name=\"EventTime\",\n",
    "    description=\"Dummy event timestamp as a mandatory featur group field.\",\n",
    ")"
   ]
  },
  {
   "cell_type": "markdown",
   "metadata": {},
   "source": [
    "To view feature metadata, we can use `DescribeFeatureMetadata` to display that feature."
   ]
  },
  {
   "cell_type": "raw",
   "metadata": {
    "execution": {
     "iopub.execute_input": "2025-08-13T21:42:25.593088Z",
     "iopub.status.busy": "2025-08-13T21:42:25.592689Z",
     "iopub.status.idle": "2025-08-13T21:42:25.749808Z",
     "shell.execute_reply": "2025-08-13T21:42:25.749141Z",
     "shell.execute_reply.started": "2025-08-13T21:42:25.593063Z"
    }
   },
   "source": [
    "titanic_feature_group.describe_feature_metadata(feature_name=\"EventTime\")"
   ]
  },
  {
   "cell_type": "markdown",
   "metadata": {},
   "source": [
    "Feature metadata fields are searchable. We use `search` API to find features with metadata that matches some search criteria."
   ]
  },
  {
   "cell_type": "raw",
   "metadata": {
    "execution": {
     "iopub.execute_input": "2025-08-13T21:42:26.253660Z",
     "iopub.status.busy": "2025-08-13T21:42:26.253382Z",
     "iopub.status.idle": "2025-08-13T21:42:26.344981Z",
     "shell.execute_reply": "2025-08-13T21:42:26.344219Z",
     "shell.execute_reply.started": "2025-08-13T21:42:26.253639Z"
    }
   },
   "source": [
    "sagemaker_session.boto_session.client(\"sagemaker\", region_name=region).search(\n",
    "    Resource=\"FeatureMetadata\",\n",
    "    SearchExpression={\n",
    "        \"Filters\": [\n",
    "            {\n",
    "                \"Name\": \"FeatureGroupName\",\n",
    "                \"Operator\": \"Contains\",\n",
    "                \"Value\": \"oonisim-kaggle-titanic-feature-group\",\n",
    "            },\n",
    "            {\"Name\": \"Description\"},\n",
    "        ]\n",
    "    },\n",
    ")"
   ]
  },
  {
   "cell_type": "markdown",
   "metadata": {},
   "source": [
    "## Materialise Feature Group\n",
    "\n",
    "Materialise the Feature Group by loading the Datastore contents via the `PutRecord` API."
   ]
  },
  {
   "cell_type": "code",
   "execution_count": 23,
   "metadata": {
    "execution": {
     "iopub.execute_input": "2025-08-13T21:42:27.940615Z",
     "iopub.status.busy": "2025-08-13T21:42:27.939949Z",
     "iopub.status.idle": "2025-08-13T21:42:32.000405Z",
     "shell.execute_reply": "2025-08-13T21:42:31.999327Z",
     "shell.execute_reply.started": "2025-08-13T21:42:27.940587Z"
    }
   },
   "outputs": [],
   "source": [
    "response = titanic_feature_group.ingest(data_frame=titanic_df, max_workers=3, wait=True)"
   ]
  },
  {
   "cell_type": "code",
   "execution_count": 49,
   "metadata": {
    "execution": {
     "iopub.execute_input": "2025-08-13T22:14:42.562290Z",
     "iopub.status.busy": "2025-08-13T22:14:42.561614Z",
     "iopub.status.idle": "2025-08-13T22:14:42.565325Z",
     "shell.execute_reply": "2025-08-13T22:14:42.564678Z",
     "shell.execute_reply.started": "2025-08-13T22:14:42.562260Z"
    }
   },
   "outputs": [],
   "source": [
    "# print(response)"
   ]
  },
  {
   "cell_type": "markdown",
   "metadata": {},
   "source": [
    "Use `get_record` to check that the record for the passenger id 5 has been ingested into the feature group."
   ]
  },
  {
   "cell_type": "code",
   "execution_count": 25,
   "metadata": {
    "execution": {
     "iopub.execute_input": "2025-08-13T21:42:32.009254Z",
     "iopub.status.busy": "2025-08-13T21:42:32.008941Z",
     "iopub.status.idle": "2025-08-13T21:42:32.100418Z",
     "shell.execute_reply": "2025-08-13T21:42:32.099596Z",
     "shell.execute_reply.started": "2025-08-13T21:42:32.009232Z"
    }
   },
   "outputs": [],
   "source": [
    "passenger_id = 5\n",
    "sample_record = sagemaker_session.boto_session.client(\n",
    "    \"sagemaker-featurestore-runtime\", region_name=region\n",
    ").get_record(\n",
    "    FeatureGroupName=titanic_feature_group_name, RecordIdentifierValueAsString=str(passenger_id)\n",
    ")"
   ]
  },
  {
   "cell_type": "code",
   "execution_count": 26,
   "metadata": {
    "execution": {
     "iopub.execute_input": "2025-08-13T21:42:32.103775Z",
     "iopub.status.busy": "2025-08-13T21:42:32.103395Z",
     "iopub.status.idle": "2025-08-13T21:42:32.110880Z",
     "shell.execute_reply": "2025-08-13T21:42:32.110205Z",
     "shell.execute_reply.started": "2025-08-13T21:42:32.103753Z"
    }
   },
   "outputs": [
    {
     "data": {
      "text/plain": [
       "{'ResponseMetadata': {'RequestId': '6500a9b0-5b7b-4417-b31a-1ac6b748ab46',\n",
       "  'HTTPStatusCode': 200,\n",
       "  'HTTPHeaders': {'x-amzn-requestid': '6500a9b0-5b7b-4417-b31a-1ac6b748ab46',\n",
       "   'content-type': 'application/json',\n",
       "   'content-length': '917',\n",
       "   'date': 'Wed, 13 Aug 2025 21:42:32 GMT'},\n",
       "  'RetryAttempts': 0},\n",
       " 'Record': [{'FeatureName': 'PassengerId', 'ValueAsString': '5'},\n",
       "  {'FeatureName': 'Survived', 'ValueAsString': '0'},\n",
       "  {'FeatureName': 'Pclass', 'ValueAsString': '3'},\n",
       "  {'FeatureName': 'Name', 'ValueAsString': 'Allen, Mr. William Henry'},\n",
       "  {'FeatureName': 'Sex', 'ValueAsString': 'male'},\n",
       "  {'FeatureName': 'Age', 'ValueAsString': '35.0'},\n",
       "  {'FeatureName': 'SibSp', 'ValueAsString': '0'},\n",
       "  {'FeatureName': 'Parch', 'ValueAsString': '0'},\n",
       "  {'FeatureName': 'Ticket', 'ValueAsString': '373450'},\n",
       "  {'FeatureName': 'Fare', 'ValueAsString': '8.05'},\n",
       "  {'FeatureName': 'Embarked', 'ValueAsString': 'S'},\n",
       "  {'FeatureName': 'EventTime', 'ValueAsString': '1755121259.0'}]}"
      ]
     },
     "execution_count": 26,
     "metadata": {},
     "output_type": "execute_result"
    }
   ],
   "source": [
    "sample_record"
   ]
  },
  {
   "cell_type": "markdown",
   "metadata": {},
   "source": [
    "Use `batch_get_record` to check multiple records."
   ]
  },
  {
   "cell_type": "code",
   "execution_count": null,
   "metadata": {
    "execution": {
     "iopub.execute_input": "2025-08-13T21:42:32.113367Z",
     "iopub.status.busy": "2025-08-13T21:42:32.113064Z",
     "iopub.status.idle": "2025-08-13T21:42:32.200484Z",
     "shell.execute_reply": "2025-08-13T21:42:32.199545Z",
     "shell.execute_reply.started": "2025-08-13T21:42:32.113345Z"
    }
   },
   "outputs": [],
   "source": [
    "all_records = sagemaker_session.boto_session.client(\n",
    "    \"sagemaker-featurestore-runtime\", region_name=region\n",
    ").batch_get_record(\n",
    "    Identifiers=[\n",
    "        {\n",
    "            \"FeatureGroupName\": titanic_feature_group_name,\n",
    "            \"RecordIdentifiersValueAsString\": [\"1\", \"2\", \"3\"],\n",
    "        },\n",
    "    ]\n",
    ")"
   ]
  },
  {
   "cell_type": "code",
   "execution_count": 50,
   "metadata": {
    "execution": {
     "iopub.execute_input": "2025-08-13T22:15:05.813128Z",
     "iopub.status.busy": "2025-08-13T22:15:05.812307Z",
     "iopub.status.idle": "2025-08-13T22:15:05.816956Z",
     "shell.execute_reply": "2025-08-13T22:15:05.815932Z",
     "shell.execute_reply.started": "2025-08-13T22:15:05.813088Z"
    }
   },
   "outputs": [],
   "source": [
    "# all_records"
   ]
  },
  {
   "cell_type": "markdown",
   "metadata": {},
   "source": [
    "---\n",
    "# Consumption\n",
    "\n",
    "## Feature Group Glue Catalog Table\n",
    "\n",
    "Feature Group is registered as the Glue Catalog Table at its creation and ready to query.\n",
    "\n",
    "| Feature Group Glue Catalog Table                | Glue Catalog Database  | Offline Store Location                                                                                                                                                                |\n",
    "|-------------------------------------------------|------------------------|---------------------------------------------------------------------------------------------------------------------------------------------------------------------------------------|\n",
    "| oonisim_kaggle_titanic_feature_group_1755074813 | sagemaker_featurestore | s3://montaproxy-sagemaker-featurestore-test/oonisim-kaggle-titanic-feature-group/316725000538/sagemaker/us-east-1/offline-store/oonisim-kaggle-titanic-feature-group-1755074813/data/ |"
   ]
  },
  {
   "attachments": {
    "e01e2e65-d313-4113-bc5d-8d85acf9c018.png": {
     "image/png": "[encoded data removed]"
    }
   },
   "cell_type": "markdown",
   "metadata": {},
   "source": [
    "![image.png](attachment:e01e2e65-d313-4113-bc5d-8d85acf9c018.png)"
   ]
  },
  {
   "cell_type": "markdown",
   "metadata": {},
   "source": [
    "## Query from Glue Catalog Table"
   ]
  },
  {
   "cell_type": "code",
   "execution_count": 51,
   "metadata": {
    "execution": {
     "iopub.execute_input": "2025-08-13T22:18:57.833458Z",
     "iopub.status.busy": "2025-08-13T22:18:57.833169Z",
     "iopub.status.idle": "2025-08-13T22:18:57.836832Z",
     "shell.execute_reply": "2025-08-13T22:18:57.836096Z",
     "shell.execute_reply.started": "2025-08-13T22:18:57.833438Z"
    }
   },
   "outputs": [],
   "source": [
    "database = \"sagemaker_featurestore\"\n",
    "table = \"oonisim_kaggle_titanic_feature_group_1755074813\""
   ]
  },
  {
   "cell_type": "code",
   "execution_count": 52,
   "metadata": {
    "execution": {
     "iopub.execute_input": "2025-08-13T22:19:01.154742Z",
     "iopub.status.busy": "2025-08-13T22:19:01.154214Z",
     "iopub.status.idle": "2025-08-13T22:19:09.365240Z",
     "shell.execute_reply": "2025-08-13T22:19:09.364115Z",
     "shell.execute_reply.started": "2025-08-13T22:19:01.154712Z"
    }
   },
   "outputs": [
    {
     "name": "stderr",
     "output_type": "stream",
     "text": [
      "2025-08-13 22:19:05,691\tWARNING services.py:2070 -- WARNING: The object store is using /tmp instead of /dev/shm because /dev/shm has only 893366272 bytes available. This will harm performance! You may be able to free up space by deleting files in /dev/shm. If you are inside a Docker container, you can increase /dev/shm size by passing '--shm-size=2.13gb' to 'docker run' (or add it to the run_options list in a Ray cluster config). Make sure to set this to more than 30% of available RAM.\n",
      "2025-08-13 22:19:06,971\tINFO worker.py:1852 -- Started a local Ray instance.\n"
     ]
    }
   ],
   "source": [
    "sql = f\"\"\"\n",
    "SELECT *\n",
    "FROM {table}\n",
    "\"\"\"\n",
    "df = wr.athena.read_sql_query(sql=sql, database=database)"
   ]
  },
  {
   "cell_type": "code",
   "execution_count": 53,
   "metadata": {
    "execution": {
     "iopub.execute_input": "2025-08-13T22:19:13.627911Z",
     "iopub.status.busy": "2025-08-13T22:19:13.627567Z",
     "iopub.status.idle": "2025-08-13T22:19:13.661279Z",
     "shell.execute_reply": "2025-08-13T22:19:13.660441Z",
     "shell.execute_reply.started": "2025-08-13T22:19:13.627875Z"
    }
   },
   "outputs": [
    {
     "data": {
      "text/html": [
       "<div>\n",
       "<style scoped>\n",
       "    .dataframe tbody tr th:only-of-type {\n",
       "        vertical-align: middle;\n",
       "    }\n",
       "\n",
       "    .dataframe tbody tr th {\n",
       "        vertical-align: top;\n",
       "    }\n",
       "\n",
       "    .dataframe thead th {\n",
       "        text-align: right;\n",
       "    }\n",
       "</style>\n",
       "<table border=\"1\" class=\"dataframe\">\n",
       "  <thead>\n",
       "    <tr style=\"text-align: right;\">\n",
       "      <th></th>\n",
       "      <th>passengerid</th>\n",
       "      <th>survived</th>\n",
       "      <th>pclass</th>\n",
       "      <th>name</th>\n",
       "      <th>sex</th>\n",
       "      <th>age</th>\n",
       "      <th>sibsp</th>\n",
       "      <th>parch</th>\n",
       "      <th>ticket</th>\n",
       "      <th>fare</th>\n",
       "      <th>cabin</th>\n",
       "      <th>embarked</th>\n",
       "      <th>eventtime</th>\n",
       "      <th>write_time</th>\n",
       "      <th>api_invocation_time</th>\n",
       "      <th>is_deleted</th>\n",
       "    </tr>\n",
       "  </thead>\n",
       "  <tbody>\n",
       "    <tr>\n",
       "      <th>0</th>\n",
       "      <td>388</td>\n",
       "      <td>1</td>\n",
       "      <td>2</td>\n",
       "      <td>Buss, Miss. Kate</td>\n",
       "      <td>female</td>\n",
       "      <td>36.0</td>\n",
       "      <td>0</td>\n",
       "      <td>0</td>\n",
       "      <td>27849</td>\n",
       "      <td>13.0000</td>\n",
       "      <td>&lt;NA&gt;</td>\n",
       "      <td>S</td>\n",
       "      <td>1.755074e+09</td>\n",
       "      <td>2025-08-13 08:58:15.541</td>\n",
       "      <td>2025-08-13 08:53:17</td>\n",
       "      <td>False</td>\n",
       "    </tr>\n",
       "    <tr>\n",
       "      <th>1</th>\n",
       "      <td>416</td>\n",
       "      <td>0</td>\n",
       "      <td>3</td>\n",
       "      <td>Meek, Mrs. Thomas (Annie Louise Rowley)</td>\n",
       "      <td>female</td>\n",
       "      <td>NaN</td>\n",
       "      <td>0</td>\n",
       "      <td>0</td>\n",
       "      <td>343095</td>\n",
       "      <td>8.0500</td>\n",
       "      <td>&lt;NA&gt;</td>\n",
       "      <td>S</td>\n",
       "      <td>1.755074e+09</td>\n",
       "      <td>2025-08-13 08:58:15.541</td>\n",
       "      <td>2025-08-13 08:53:17</td>\n",
       "      <td>False</td>\n",
       "    </tr>\n",
       "    <tr>\n",
       "      <th>2</th>\n",
       "      <td>721</td>\n",
       "      <td>1</td>\n",
       "      <td>2</td>\n",
       "      <td>Harper, Miss. Annie Jessie \"Nina\"</td>\n",
       "      <td>female</td>\n",
       "      <td>6.0</td>\n",
       "      <td>0</td>\n",
       "      <td>1</td>\n",
       "      <td>248727</td>\n",
       "      <td>33.0000</td>\n",
       "      <td>&lt;NA&gt;</td>\n",
       "      <td>S</td>\n",
       "      <td>1.755074e+09</td>\n",
       "      <td>2025-08-13 08:58:15.541</td>\n",
       "      <td>2025-08-13 08:53:17</td>\n",
       "      <td>False</td>\n",
       "    </tr>\n",
       "    <tr>\n",
       "      <th>3</th>\n",
       "      <td>548</td>\n",
       "      <td>1</td>\n",
       "      <td>2</td>\n",
       "      <td>Padro y Manent, Mr. Julian</td>\n",
       "      <td>male</td>\n",
       "      <td>NaN</td>\n",
       "      <td>0</td>\n",
       "      <td>0</td>\n",
       "      <td>SC/PARIS 2146</td>\n",
       "      <td>13.8625</td>\n",
       "      <td>&lt;NA&gt;</td>\n",
       "      <td>C</td>\n",
       "      <td>1.755074e+09</td>\n",
       "      <td>2025-08-13 08:58:15.541</td>\n",
       "      <td>2025-08-13 08:53:18</td>\n",
       "      <td>False</td>\n",
       "    </tr>\n",
       "    <tr>\n",
       "      <th>4</th>\n",
       "      <td>549</td>\n",
       "      <td>0</td>\n",
       "      <td>3</td>\n",
       "      <td>Goldsmith, Mr. Frank John</td>\n",
       "      <td>male</td>\n",
       "      <td>33.0</td>\n",
       "      <td>1</td>\n",
       "      <td>1</td>\n",
       "      <td>363291</td>\n",
       "      <td>20.5250</td>\n",
       "      <td>&lt;NA&gt;</td>\n",
       "      <td>S</td>\n",
       "      <td>1.755074e+09</td>\n",
       "      <td>2025-08-13 08:58:15.541</td>\n",
       "      <td>2025-08-13 08:53:18</td>\n",
       "      <td>False</td>\n",
       "    </tr>\n",
       "  </tbody>\n",
       "</table>\n",
       "</div>"
      ],
      "text/plain": [
       "   passengerid  survived  pclass                                     name  \\\n",
       "0          388         1       2                         Buss, Miss. Kate   \n",
       "1          416         0       3  Meek, Mrs. Thomas (Annie Louise Rowley)   \n",
       "2          721         1       2        Harper, Miss. Annie Jessie \"Nina\"   \n",
       "3          548         1       2               Padro y Manent, Mr. Julian   \n",
       "4          549         0       3                Goldsmith, Mr. Frank John   \n",
       "\n",
       "      sex   age  sibsp  parch         ticket     fare cabin embarked  \\\n",
       "0  female  36.0      0      0          27849  13.0000  <NA>        S   \n",
       "1  female   NaN      0      0         343095   8.0500  <NA>        S   \n",
       "2  female   6.0      0      1         248727  33.0000  <NA>        S   \n",
       "3    male   NaN      0      0  SC/PARIS 2146  13.8625  <NA>        C   \n",
       "4    male  33.0      1      1         363291  20.5250  <NA>        S   \n",
       "\n",
       "      eventtime              write_time api_invocation_time  is_deleted  \n",
       "0  1.755074e+09 2025-08-13 08:58:15.541 2025-08-13 08:53:17       False  \n",
       "1  1.755074e+09 2025-08-13 08:58:15.541 2025-08-13 08:53:17       False  \n",
       "2  1.755074e+09 2025-08-13 08:58:15.541 2025-08-13 08:53:17       False  \n",
       "3  1.755074e+09 2025-08-13 08:58:15.541 2025-08-13 08:53:18       False  \n",
       "4  1.755074e+09 2025-08-13 08:58:15.541 2025-08-13 08:53:18       False  "
      ]
     },
     "execution_count": 53,
     "metadata": {},
     "output_type": "execute_result"
    }
   ],
   "source": [
    "df.head()"
   ]
  },
  {
   "cell_type": "raw",
   "metadata": {
    "execution": {
     "iopub.execute_input": "2025-08-13T22:09:01.496487Z",
     "iopub.status.busy": "2025-08-13T22:09:01.496102Z",
     "iopub.status.idle": "2025-08-13T22:09:02.756442Z",
     "shell.execute_reply": "2025-08-13T22:09:02.755663Z",
     "shell.execute_reply.started": "2025-08-13T22:09:01.496462Z"
    },
    "jupyter": {
     "source_hidden": true
    }
   },
   "source": [
    "athena_client = boto3.client('athena', region_name=region) \n",
    "s3_output = \"s3://montaproxy-sagemaker-featurestore-test/athena/results/\"\n",
    "\n",
    "query = f\"SELECT * FROM {table} LIMIT 10;\"\n",
    "\n",
    "# Start query\n",
    "response = athena_client.start_query_execution(\n",
    "    QueryString=query,\n",
    "    QueryExecutionContext={\n",
    "        \"Database\": database\n",
    "    },\n",
    "    ResultConfiguration={\n",
    "        \"OutputLocation\": s3_output\n",
    "    }\n",
    ")\n",
    "\n",
    "# Get execution ID\n",
    "execution_id = response['QueryExecutionId']\n",
    "\n",
    "# Wait for completion\n",
    "while True:\n",
    "    status = athena_client.get_query_execution(\n",
    "        QueryExecutionId=execution_id\n",
    "    )\n",
    "    state = status['QueryExecution']['Status']['State']\n",
    "    if state in ['SUCCEEDED', 'FAILED', 'CANCELLED']:\n",
    "        break\n",
    "    time.sleep(1)\n",
    "\n",
    "if state == 'SUCCEEDED':\n",
    "    # Fetch results\n",
    "    results = athena_client.get_query_results(\n",
    "        QueryExecutionId=execution_id,\n",
    "    )\n",
    "    # for row in results['ResultSet']['Rows']:\n",
    "    #    print([col.get('VarCharValue', '') for col in row['Data']])\n",
    "else:\n",
    "    print(f\"Query {state}: {status['QueryExecution']['Status']['StateChangeReason']}\")\n"
   ]
  },
  {
   "cell_type": "raw",
   "metadata": {
    "execution": {
     "iopub.execute_input": "2025-08-13T22:09:02.758827Z",
     "iopub.status.busy": "2025-08-13T22:09:02.757953Z",
     "iopub.status.idle": "2025-08-13T22:09:02.765199Z",
     "shell.execute_reply": "2025-08-13T22:09:02.764257Z",
     "shell.execute_reply.started": "2025-08-13T22:09:02.758800Z"
    },
    "jupyter": {
     "source_hidden": true
    }
   },
   "source": [
    "def results_to_df(results):\n",
    "    columns = [\n",
    "        col['Label']\n",
    "        for col in results['ResultSet']['ResultSetMetadata']['ColumnInfo']\n",
    "    ]\n",
    "\n",
    "    listed_results = []\n",
    "    for res in results['ResultSet']['Rows'][1:]:\n",
    "        values = []\n",
    "        for field in res['Data']:\n",
    "            try:\n",
    "                values.append(list(field.values())[0])\n",
    "            except:\n",
    "                values.append('')\n",
    "        listed_results.append(\n",
    "            dict(zip(columns, values))\n",
    "        )\n",
    "    return pd.DataFrame(listed_results)"
   ]
  },
  {
   "cell_type": "raw",
   "metadata": {
    "execution": {
     "iopub.execute_input": "2025-08-13T22:09:03.401521Z",
     "iopub.status.busy": "2025-08-13T22:09:03.401134Z",
     "iopub.status.idle": "2025-08-13T22:09:03.418776Z",
     "shell.execute_reply": "2025-08-13T22:09:03.417992Z",
     "shell.execute_reply.started": "2025-08-13T22:09:03.401494Z"
    }
   },
   "source": [
    "results_to_df(results)"
   ]
  },
  {
   "cell_type": "markdown",
   "metadata": {},
   "source": [
    "## Model Training\n",
    "\n",
    "TBD"
   ]
  },
  {
   "cell_type": "markdown",
   "metadata": {},
   "source": [
    "---\n",
    "# Clean up\n",
    "Remove the Feature Groups we created. "
   ]
  },
  {
   "cell_type": "code",
   "execution_count": null,
   "metadata": {
    "execution": {
     "iopub.status.busy": "2025-08-13T21:41:01.193154Z",
     "iopub.status.idle": "2025-08-13T21:41:01.193527Z",
     "shell.execute_reply": "2025-08-13T21:41:01.193361Z",
     "shell.execute_reply.started": "2025-08-13T21:41:01.193344Z"
    }
   },
   "outputs": [],
   "source": [
    "titanic_feature_group.delete()"
   ]
  }
 ],
 "metadata": {
  "instance_type": "ml.t3.medium",
  "kernelspec": {
   "display_name": "Python 3 (ipykernel)",
   "language": "python",
   "name": "python3"
  },
  "language_info": {
   "codemirror_mode": {
    "name": "ipython",
    "version": 3
   },
   "file_extension": ".py",
   "mimetype": "text/x-python",
   "name": "python",
   "nbconvert_exporter": "python",
   "pygments_lexer": "ipython3",
   "version": "3.12.9"
  }
 },
 "nbformat": 4,
 "nbformat_minor": 4
}
